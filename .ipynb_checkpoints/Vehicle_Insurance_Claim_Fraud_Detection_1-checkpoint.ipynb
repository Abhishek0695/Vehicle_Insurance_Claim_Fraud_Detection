{
 "cells": [
  {
   "cell_type": "markdown",
   "id": "2f96929a",
   "metadata": {},
   "source": [
    "## About Dataset\n",
    "### Vehicle Insurance Fraud Detection\n",
    " Vehicle insurance fraud involves conspiring to make false or exaggerated claims involving property damage or personal injuries following an accident. Some common examples include staged accidents where fraudsters deliberately “arrange” for accidents to occur; the use of phantom passengers where people who were not even at the scene of the accident claim to have suffered grievous injury, and make false personal injury claims where personal injuries are grossly exaggerated.\n",
    "\n",
    "### About this dataset\n",
    "\n",
    "This dataset contains vehicle dataset - attribute, model, accident details, etc along with policy details - policy type, tenure etc. The target is to detect if a claim application is fraudulent or not - FraudFound_P. The dataset is obtained from Kaggle (https://www.kaggle.com/datasets/shivamb/vehicle-claim-fraud-detection)\n",
    "\n",
    "**The objective of this project to is to predict if a vehicle insurance claim was legit**"
   ]
  },
  {
   "cell_type": "code",
   "execution_count": null,
   "id": "93f16349",
   "metadata": {},
   "outputs": [],
   "source": [
    "import pandas as pd\n",
    "import numpy as np\n",
    "import seaborn as sns\n",
    "import matplotlib.pyplot as plt\n"
   ]
  },
  {
   "cell_type": "code",
   "execution_count": null,
   "id": "246a79bc",
   "metadata": {},
   "outputs": [],
   "source": [
    "df = pd.read_csv(\"Vehicle_Insurance_Fraud_Detection.csv\")"
   ]
  },
  {
   "cell_type": "code",
   "execution_count": null,
   "id": "46e100d3",
   "metadata": {},
   "outputs": [],
   "source": [
    "df.head()"
   ]
  },
  {
   "cell_type": "markdown",
   "id": "8ab0c058",
   "metadata": {},
   "source": [
    "### Checking null values"
   ]
  },
  {
   "cell_type": "code",
   "execution_count": null,
   "id": "a840fb59",
   "metadata": {},
   "outputs": [],
   "source": [
    "df.isna().sum()"
   ]
  },
  {
   "cell_type": "code",
   "execution_count": null,
   "id": "c0ff0db0",
   "metadata": {},
   "outputs": [],
   "source": [
    "pd.set_option('display.max_columns',None) ### displaying all the columns"
   ]
  },
  {
   "cell_type": "code",
   "execution_count": null,
   "id": "456ae030",
   "metadata": {},
   "outputs": [],
   "source": [
    "df.head()"
   ]
  },
  {
   "cell_type": "markdown",
   "id": "90f2558a",
   "metadata": {},
   "source": [
    "### Dropping columns not required for analysis"
   ]
  },
  {
   "cell_type": "code",
   "execution_count": null,
   "id": "f25a0047",
   "metadata": {},
   "outputs": [],
   "source": [
    "df.drop(['Year','Age','PolicyNumber','RepNumber'],axis=1,inplace=True)"
   ]
  },
  {
   "cell_type": "code",
   "execution_count": null,
   "id": "62ecdeed",
   "metadata": {},
   "outputs": [],
   "source": [
    "df.head()"
   ]
  },
  {
   "cell_type": "markdown",
   "id": "e4e34708",
   "metadata": {},
   "source": [
    "# Exploratory Data Analysis"
   ]
  },
  {
   "cell_type": "markdown",
   "id": "2a63c958",
   "metadata": {},
   "source": [
    "### Checking correlation between numerical columns"
   ]
  },
  {
   "cell_type": "code",
   "execution_count": null,
   "id": "b2652f46",
   "metadata": {},
   "outputs": [],
   "source": [
    "df.corr()"
   ]
  },
  {
   "cell_type": "code",
   "execution_count": null,
   "id": "6392d57e",
   "metadata": {},
   "outputs": [],
   "source": [
    "fig = plt.figure(figsize = (15,10))\n",
    "ax = fig.gca()\n",
    "sns.heatmap(df.corr(),ax=ax,cmap='coolwarm',annot=True,annot_kws={'fontsize': 16, 'color':'black', 'alpha': 1,\n",
    "                        'verticalalignment': 'center'})"
   ]
  },
  {
   "cell_type": "markdown",
   "id": "aef21b4d",
   "metadata": {},
   "source": [
    "## It can be seen that there is no significant correlation observed between the variables"
   ]
  },
  {
   "cell_type": "markdown",
   "id": "10b2f278",
   "metadata": {},
   "source": [
    "### Checking Fraudulent claims on the basis of gender and marital status (EDA on categorical variables)"
   ]
  },
  {
   "cell_type": "code",
   "execution_count": null,
   "id": "3305af5f",
   "metadata": {},
   "outputs": [],
   "source": [
    "df1 = df[df['FraudFound_P']==1]\n",
    "fig, axes = plt.subplots(1, 2, figsize=(15, 5))\n",
    "sns.histplot(df1['Sex'],ax=axes[0])\n",
    "sns.histplot(df1['MaritalStatus'],ax=axes[1])"
   ]
  },
  {
   "cell_type": "markdown",
   "id": "18155eac",
   "metadata": {},
   "source": [
    "### Checking Fraudulent claims on the basis of Accident \"month\", \"week of month\" and \"day of week\""
   ]
  },
  {
   "cell_type": "code",
   "execution_count": null,
   "id": "45655980",
   "metadata": {},
   "outputs": [],
   "source": [
    "df1 = df[df['FraudFound_P']==1]\n",
    "fig, axes = plt.subplots(1, 3, figsize=(20, 5))\n",
    "sns.histplot(df1['Month'],ax=axes[0])\n",
    "sns.histplot(df1['WeekOfMonth'],ax=axes[1])\n",
    "sns.histplot(df1['DayOfWeek'],ax=axes[2])"
   ]
  },
  {
   "cell_type": "markdown",
   "id": "7e8d0661",
   "metadata": {},
   "source": [
    "### Checking Fraudulent claims on the basis of Make of the vehicle"
   ]
  },
  {
   "cell_type": "code",
   "execution_count": null,
   "id": "ec95194b",
   "metadata": {},
   "outputs": [],
   "source": [
    "import matplotlib.pyplot as plt\n",
    "fig = plt.figure(figsize = (15,10))\n",
    "ax = fig.gca()\n",
    "df1 = df[df['FraudFound_P']==1]\n",
    "df1['Make'].hist(ax=ax,)"
   ]
  },
  {
   "cell_type": "markdown",
   "id": "d45579dc",
   "metadata": {},
   "source": [
    "### Checking Fraudulent claims on the basis  of the vehicle category"
   ]
  },
  {
   "cell_type": "code",
   "execution_count": null,
   "id": "b30b0123",
   "metadata": {},
   "outputs": [],
   "source": [
    "df1 = df[df['FraudFound_P']==1]\n",
    "df1['VehicleCategory'].hist()"
   ]
  },
  {
   "cell_type": "markdown",
   "id": "2e24d029",
   "metadata": {},
   "source": [
    "### Checking Fraudulent claims on the basis of age of the vehicle"
   ]
  },
  {
   "cell_type": "code",
   "execution_count": null,
   "id": "9bbe62eb",
   "metadata": {},
   "outputs": [],
   "source": [
    "\n",
    "fig = plt.figure(figsize = (15,5))\n",
    "ax = fig.gca()\n",
    "df1 = df[df['FraudFound_P']==1]\n",
    "df1['AgeOfVehicle'].hist(ax=ax)"
   ]
  },
  {
   "cell_type": "markdown",
   "id": "b417e2fb",
   "metadata": {},
   "source": [
    "### Checking Fraudulent claims on the basis  of Accident area"
   ]
  },
  {
   "cell_type": "code",
   "execution_count": null,
   "id": "17a7ebf8",
   "metadata": {},
   "outputs": [],
   "source": [
    "df1 = df[df['FraudFound_P']==1]\n",
    "df1['AccidentArea'].hist()"
   ]
  },
  {
   "cell_type": "markdown",
   "id": "86a2a20e",
   "metadata": {},
   "source": [
    "### Checking Fraudulent claims on the basis  of Fault"
   ]
  },
  {
   "cell_type": "code",
   "execution_count": null,
   "id": "45b53605",
   "metadata": {},
   "outputs": [],
   "source": [
    "\n",
    "df1 = df[df['FraudFound_P']==1]\n",
    "df1['Fault'].hist()"
   ]
  },
  {
   "cell_type": "markdown",
   "id": "66ca86d6",
   "metadata": {},
   "source": [
    "### Checking Fraudulent claims on the basis  of Policy type"
   ]
  },
  {
   "cell_type": "code",
   "execution_count": null,
   "id": "df6ae63d",
   "metadata": {},
   "outputs": [],
   "source": [
    "fig = plt.figure(figsize = (15,5))\n",
    "ax = fig.gca()\n",
    "df1 = df[df['FraudFound_P']==1]\n",
    "df1['PolicyType'].hist(ax=ax)"
   ]
  },
  {
   "cell_type": "markdown",
   "id": "8d5a41b3",
   "metadata": {},
   "source": [
    "### Checking Fraudulent claims on the basis  of vehicle price"
   ]
  },
  {
   "cell_type": "code",
   "execution_count": null,
   "id": "ce6c5afe",
   "metadata": {},
   "outputs": [],
   "source": [
    "fig = plt.figure(figsize = (15,5))\n",
    "ax = fig.gca()\n",
    "df1 = df[df['FraudFound_P']==1]\n",
    "df1['VehiclePrice'].hist(ax=ax)"
   ]
  },
  {
   "cell_type": "markdown",
   "id": "fea726ad",
   "metadata": {},
   "source": [
    "### Checking Fraudulent claims on the basis  of past number of claims"
   ]
  },
  {
   "cell_type": "code",
   "execution_count": null,
   "id": "f3889404",
   "metadata": {},
   "outputs": [],
   "source": [
    "df1 = df[df['FraudFound_P']==1]\n",
    "df1['PastNumberOfClaims'].hist()"
   ]
  },
  {
   "cell_type": "markdown",
   "id": "f29c2674",
   "metadata": {},
   "source": [
    "### Checking Fraudulent claims on the basis of Age of policy holder"
   ]
  },
  {
   "cell_type": "code",
   "execution_count": null,
   "id": "c40ad009",
   "metadata": {},
   "outputs": [],
   "source": [
    "fig = plt.figure(figsize = (15,5))\n",
    "ax = fig.gca()\n",
    "df1 = df[df['FraudFound_P']==1]\n",
    "df1['AgeOfPolicyHolder'].hist(ax=ax)"
   ]
  },
  {
   "cell_type": "markdown",
   "id": "9a4804b7",
   "metadata": {},
   "source": [
    "### Checking Fraudulent claims on the basis  of \"police report filed\" and \"witness present\""
   ]
  },
  {
   "cell_type": "code",
   "execution_count": null,
   "id": "c32c3a2d",
   "metadata": {},
   "outputs": [],
   "source": [
    "df1 = df[df['FraudFound_P']==1]\n",
    "fig, axes = plt.subplots(1, 2, figsize=(15, 5))\n",
    "sns.histplot(df1['PoliceReportFiled'],ax=axes[0])\n",
    "sns.histplot(df1['WitnessPresent'],ax=axes[1])"
   ]
  },
  {
   "cell_type": "markdown",
   "id": "e6a53827",
   "metadata": {},
   "source": [
    "### Checking Fraudulent claims on the basis  of agent type"
   ]
  },
  {
   "cell_type": "code",
   "execution_count": null,
   "id": "407e3be7",
   "metadata": {},
   "outputs": [],
   "source": [
    "df1 = df[df['FraudFound_P']==1]\n",
    "df1['AgentType'].hist()"
   ]
  },
  {
   "cell_type": "markdown",
   "id": "b51620bb",
   "metadata": {},
   "source": [
    "### Checking Fraudulent claims on the basis  of number of suppliments"
   ]
  },
  {
   "cell_type": "code",
   "execution_count": null,
   "id": "a6535e4c",
   "metadata": {},
   "outputs": [],
   "source": [
    "df1 = df[df['FraudFound_P']==1]\n",
    "df1['NumberOfSuppliments'].hist()"
   ]
  },
  {
   "cell_type": "markdown",
   "id": "c04805fe",
   "metadata": {},
   "source": [
    "### Checking Fraudulent claims on the basis  of AddressChange_Claim"
   ]
  },
  {
   "cell_type": "code",
   "execution_count": null,
   "id": "1812ba1c",
   "metadata": {},
   "outputs": [],
   "source": [
    "df1 = df[df['FraudFound_P']==1]\n",
    "df1['AddressChange_Claim'].hist()"
   ]
  },
  {
   "cell_type": "markdown",
   "id": "d56e54c3",
   "metadata": {},
   "source": [
    "### Checking Fraudulent claims on the basis  of Number of cars and base policy"
   ]
  },
  {
   "cell_type": "code",
   "execution_count": null,
   "id": "65a3da49",
   "metadata": {},
   "outputs": [],
   "source": [
    "df1 = df[df['FraudFound_P']==1]\n",
    "fig, axes = plt.subplots(1, 2, figsize=(15, 5))\n",
    "sns.histplot(df1['NumberOfCars'],ax=axes[0])\n",
    "sns.histplot(df1['BasePolicy'],ax=axes[1])"
   ]
  },
  {
   "cell_type": "markdown",
   "id": "b6afde95",
   "metadata": {},
   "source": [
    "## From the histograms, it can be seen that all the columns have an effect on the Fraudulent claims. We will be using all the columns as factors in our ML algorithms"
   ]
  },
  {
   "cell_type": "markdown",
   "id": "6559d6b8",
   "metadata": {},
   "source": [
    "## Data Prep"
   ]
  },
  {
   "cell_type": "markdown",
   "id": "e9764323",
   "metadata": {},
   "source": [
    "### The target variable is highly imbalanced "
   ]
  },
  {
   "cell_type": "code",
   "execution_count": null,
   "id": "1a4c9f59",
   "metadata": {},
   "outputs": [],
   "source": [
    "df['FraudFound_P'].value_counts()"
   ]
  },
  {
   "cell_type": "markdown",
   "id": "7bb47f39",
   "metadata": {},
   "source": [
    "### As the dataset is imbalanced, lets use random oversampling. Random oversampling involves randomly selecting examples from the minority class, with replacement, and adding them to the training dataset."
   ]
  },
  {
   "cell_type": "code",
   "execution_count": null,
   "id": "b2426255",
   "metadata": {},
   "outputs": [],
   "source": [
    "X = df.drop('FraudFound_P',axis=1)\n",
    "y = df['FraudFound_P']"
   ]
  },
  {
   "cell_type": "code",
   "execution_count": null,
   "id": "f8dd7081",
   "metadata": {},
   "outputs": [],
   "source": [
    "X.shape"
   ]
  },
  {
   "cell_type": "code",
   "execution_count": null,
   "id": "65d4274c",
   "metadata": {},
   "outputs": [],
   "source": [
    "y.shape"
   ]
  },
  {
   "cell_type": "code",
   "execution_count": null,
   "id": "ab25f054",
   "metadata": {},
   "outputs": [],
   "source": [
    "from imblearn.over_sampling import RandomOverSampler\n",
    "\n",
    "ros = RandomOverSampler(random_state=0)\n",
    "\n",
    "X, y = ros.fit_resample(X, y)"
   ]
  },
  {
   "cell_type": "code",
   "execution_count": null,
   "id": "06cac674",
   "metadata": {},
   "outputs": [],
   "source": [
    "X.shape"
   ]
  },
  {
   "cell_type": "code",
   "execution_count": null,
   "id": "bab3108e",
   "metadata": {},
   "outputs": [],
   "source": [
    "y.shape"
   ]
  },
  {
   "cell_type": "code",
   "execution_count": null,
   "id": "308c0893",
   "metadata": {},
   "outputs": [],
   "source": [
    "df=X\n",
    "df['FraudFound_P']=y"
   ]
  },
  {
   "cell_type": "code",
   "execution_count": null,
   "id": "fa34259c",
   "metadata": {},
   "outputs": [],
   "source": [
    "from sklearn.model_selection import train_test_split\n",
    "\n",
    "train_set, test_set = train_test_split(df, test_size=0.3,random_state=0)"
   ]
  },
  {
   "cell_type": "code",
   "execution_count": null,
   "id": "40dfb530",
   "metadata": {},
   "outputs": [],
   "source": [
    "train_set.isna().sum()"
   ]
  },
  {
   "cell_type": "code",
   "execution_count": null,
   "id": "138054b8",
   "metadata": {},
   "outputs": [],
   "source": [
    "test_set.isna().sum()"
   ]
  },
  {
   "cell_type": "code",
   "execution_count": null,
   "id": "60700091",
   "metadata": {},
   "outputs": [],
   "source": [
    "from sklearn.compose import ColumnTransformer\n",
    "from sklearn.pipeline import Pipeline\n",
    "from sklearn.impute import SimpleImputer\n",
    "from sklearn.preprocessing import StandardScaler\n",
    "from sklearn.preprocessing import OneHotEncoder\n",
    "\n",
    "from sklearn.preprocessing import FunctionTransformer"
   ]
  },
  {
   "cell_type": "markdown",
   "id": "8499dd0a",
   "metadata": {},
   "source": [
    "### Separating the target variable"
   ]
  },
  {
   "cell_type": "code",
   "execution_count": null,
   "id": "6567ecdf",
   "metadata": {},
   "outputs": [],
   "source": [
    "train_y = train_set['FraudFound_P']\n",
    "test_y = test_set['FraudFound_P']\n",
    "\n",
    "train_inputs = train_set.drop(['FraudFound_P'], axis=1)\n",
    "test_inputs = test_set.drop(['FraudFound_P'], axis=1)"
   ]
  },
  {
   "cell_type": "code",
   "execution_count": null,
   "id": "0feea892",
   "metadata": {},
   "outputs": [],
   "source": [
    "train_inputs.shape"
   ]
  },
  {
   "cell_type": "code",
   "execution_count": null,
   "id": "1aaca03d",
   "metadata": {},
   "outputs": [],
   "source": [
    "test_inputs.shape"
   ]
  },
  {
   "cell_type": "code",
   "execution_count": null,
   "id": "d4bf67c8",
   "metadata": {},
   "outputs": [],
   "source": [
    "train_y.shape"
   ]
  },
  {
   "cell_type": "code",
   "execution_count": null,
   "id": "8d434057",
   "metadata": {},
   "outputs": [],
   "source": [
    "test_y.shape"
   ]
  },
  {
   "cell_type": "markdown",
   "id": "95047fef",
   "metadata": {},
   "source": [
    "### Identifying the numerical and categorical features"
   ]
  },
  {
   "cell_type": "code",
   "execution_count": null,
   "id": "bd0c20f8",
   "metadata": {},
   "outputs": [],
   "source": [
    "# Identify the numerical columns\n",
    "numeric_columns = train_inputs.select_dtypes(include=[np.number]).columns.to_list()\n",
    "\n",
    "# Identify the categorical columns\n",
    "categorical_columns = train_inputs.select_dtypes('object').columns.to_list()"
   ]
  },
  {
   "cell_type": "code",
   "execution_count": null,
   "id": "a6f787c2",
   "metadata": {},
   "outputs": [],
   "source": [
    "numeric_columns"
   ]
  },
  {
   "cell_type": "code",
   "execution_count": null,
   "id": "b7632319",
   "metadata": {},
   "outputs": [],
   "source": [
    "categorical_columns"
   ]
  },
  {
   "cell_type": "markdown",
   "id": "f18a0e8c",
   "metadata": {},
   "source": [
    "## Creating Pipeline for handling numerical and categorical columns"
   ]
  },
  {
   "cell_type": "code",
   "execution_count": null,
   "id": "0531474e",
   "metadata": {},
   "outputs": [],
   "source": [
    "numeric_transformer = Pipeline(steps=[\n",
    "                ('imputer', SimpleImputer(strategy='mean')),\n",
    "                ('scaler', StandardScaler())])"
   ]
  },
  {
   "cell_type": "code",
   "execution_count": null,
   "id": "a42298e6",
   "metadata": {},
   "outputs": [],
   "source": [
    "categorical_transformer = Pipeline(steps=[\n",
    "    ('imputer', SimpleImputer(strategy='constant', fill_value='unknown')),\n",
    "    ('onehot', OneHotEncoder(handle_unknown='ignore'))])"
   ]
  },
  {
   "cell_type": "code",
   "execution_count": null,
   "id": "8c901e19",
   "metadata": {},
   "outputs": [],
   "source": [
    "preprocessor = ColumnTransformer([\n",
    "        ('num', numeric_transformer, numeric_columns),\n",
    "        ('cat', categorical_transformer, categorical_columns)],\n",
    "        remainder='passthrough')"
   ]
  },
  {
   "cell_type": "code",
   "execution_count": null,
   "id": "e99bae56",
   "metadata": {},
   "outputs": [],
   "source": [
    "#Fit and transform the train data\n",
    "train_x = preprocessor.fit_transform(train_inputs)\n",
    "\n",
    "train_x"
   ]
  },
  {
   "cell_type": "code",
   "execution_count": null,
   "id": "0128ddde",
   "metadata": {},
   "outputs": [],
   "source": [
    "train_x.shape"
   ]
  },
  {
   "cell_type": "code",
   "execution_count": null,
   "id": "7f1df937",
   "metadata": {},
   "outputs": [],
   "source": [
    "# Transform the test data\n",
    "test_x = preprocessor.transform(test_inputs)\n",
    "\n",
    "test_x"
   ]
  },
  {
   "cell_type": "code",
   "execution_count": null,
   "id": "9b087bd8",
   "metadata": {},
   "outputs": [],
   "source": [
    "test_x"
   ]
  },
  {
   "cell_type": "markdown",
   "id": "624620c7",
   "metadata": {},
   "source": [
    "### Model 1: Decision Tree Classifier"
   ]
  },
  {
   "cell_type": "code",
   "execution_count": null,
   "id": "da53650e",
   "metadata": {},
   "outputs": [],
   "source": [
    "from sklearn.tree import DecisionTreeClassifier \n",
    "\n",
    "tree_clf = DecisionTreeClassifier(min_samples_leaf=10)\n",
    "\n",
    "tree_clf.fit(train_x, train_y)"
   ]
  },
  {
   "cell_type": "markdown",
   "id": "4d37ed47",
   "metadata": {},
   "source": [
    "### Accuracy for Decision Tree Classifier"
   ]
  },
  {
   "cell_type": "code",
   "execution_count": null,
   "id": "5b01d9de",
   "metadata": {},
   "outputs": [],
   "source": [
    "from sklearn.metrics import accuracy_score\n",
    "from sklearn.metrics import confusion_matrix,f1_score,plot_roc_curve,roc_auc_score,roc_curve"
   ]
  },
  {
   "cell_type": "code",
   "execution_count": null,
   "id": "b7782e7b",
   "metadata": {},
   "outputs": [],
   "source": [
    "#Train accuracy:\n",
    "train_y_pred = tree_clf.predict(train_x)\n",
    "\n",
    "print(accuracy_score(train_y, train_y_pred))"
   ]
  },
  {
   "cell_type": "code",
   "execution_count": null,
   "id": "bb7467cc",
   "metadata": {},
   "outputs": [],
   "source": [
    "#Test accuracy:\n",
    "test_y_pred = tree_clf.predict(test_x)\n",
    "\n",
    "print(accuracy_score(test_y, test_y_pred))"
   ]
  },
  {
   "cell_type": "markdown",
   "id": "afc22383",
   "metadata": {},
   "source": [
    "### Confusion Matrix for Decision Tree"
   ]
  },
  {
   "cell_type": "code",
   "execution_count": null,
   "id": "17c3ab43",
   "metadata": {},
   "outputs": [],
   "source": [
    "from sklearn.metrics import confusion_matrix,f1_score\n",
    "confusion_matrix(test_y, test_y_pred)"
   ]
  },
  {
   "cell_type": "markdown",
   "id": "2b680a51",
   "metadata": {},
   "source": [
    "### F1 Score for Decision Tree"
   ]
  },
  {
   "cell_type": "code",
   "execution_count": null,
   "id": "63f42842",
   "metadata": {},
   "outputs": [],
   "source": [
    "f1_score(test_y, test_y_pred)"
   ]
  },
  {
   "cell_type": "markdown",
   "id": "e5de4428",
   "metadata": {},
   "source": [
    "### Determing the Area under the curve for Decision Tree Classifier"
   ]
  },
  {
   "cell_type": "code",
   "execution_count": null,
   "id": "1afc795e",
   "metadata": {},
   "outputs": [],
   "source": [
    "dt_auc = roc_auc_score(test_y, test_y_pred)"
   ]
  },
  {
   "cell_type": "code",
   "execution_count": null,
   "id": "9df7b5fc",
   "metadata": {},
   "outputs": [],
   "source": [
    "dt_fpr, dt_tpr, _ = roc_curve(test_y, test_y_pred)"
   ]
  },
  {
   "cell_type": "markdown",
   "id": "b2829b5a",
   "metadata": {},
   "source": [
    "### Model 2: Random Forest "
   ]
  },
  {
   "cell_type": "code",
   "execution_count": null,
   "id": "022e85c6",
   "metadata": {},
   "outputs": [],
   "source": [
    "from sklearn.ensemble import RandomForestClassifier \n",
    "\n",
    "rnd_clf = RandomForestClassifier(n_estimators=100,min_samples_leaf=8) \n",
    "\n",
    "rnd_clf.fit(train_x, train_y)"
   ]
  },
  {
   "cell_type": "markdown",
   "id": "14269630",
   "metadata": {},
   "source": [
    "### Accuracy for Random Forest Classifier"
   ]
  },
  {
   "cell_type": "code",
   "execution_count": null,
   "id": "2e45ab5c",
   "metadata": {},
   "outputs": [],
   "source": [
    "#Train accuracy\n",
    "train_y_pred = rnd_clf.predict(train_x)\n",
    "\n",
    "train_acc = accuracy_score(train_y, train_y_pred)\n",
    "\n",
    "print('Train acc: {}' .format(train_acc))"
   ]
  },
  {
   "cell_type": "code",
   "execution_count": null,
   "id": "cf4c7d93",
   "metadata": {},
   "outputs": [],
   "source": [
    "test_y_pred = rnd_clf.predict(test_x)\n",
    "\n",
    "test_acc = accuracy_score(test_y, test_y_pred)\n",
    "\n",
    "print('Test acc: {}' .format(test_acc))"
   ]
  },
  {
   "cell_type": "markdown",
   "id": "8ab6ea24",
   "metadata": {},
   "source": [
    "### Confusion Matrix for Random Forest "
   ]
  },
  {
   "cell_type": "code",
   "execution_count": null,
   "id": "0de50013",
   "metadata": {},
   "outputs": [],
   "source": [
    "confusion_matrix(test_y, test_y_pred)"
   ]
  },
  {
   "cell_type": "markdown",
   "id": "b8134c0f",
   "metadata": {},
   "source": [
    "### F1 Score for Random Forest"
   ]
  },
  {
   "cell_type": "code",
   "execution_count": null,
   "id": "36e52e52",
   "metadata": {},
   "outputs": [],
   "source": [
    "f1_score(test_y, test_y_pred)"
   ]
  },
  {
   "cell_type": "markdown",
   "id": "d567567c",
   "metadata": {},
   "source": [
    "### Determing the Area under the curve for Random Forest Classifier"
   ]
  },
  {
   "cell_type": "code",
   "execution_count": null,
   "id": "e6e6ef51",
   "metadata": {},
   "outputs": [],
   "source": [
    "rn_auc = roc_auc_score(test_y, test_y_pred)"
   ]
  },
  {
   "cell_type": "code",
   "execution_count": null,
   "id": "606197a5",
   "metadata": {},
   "outputs": [],
   "source": [
    "rn_fpr, rn_tpr, _ = roc_curve(test_y, test_y_pred)"
   ]
  },
  {
   "cell_type": "markdown",
   "id": "8485cd2f",
   "metadata": {},
   "source": [
    "### Creating a pickle file for Random Forest model which will be used during model deployment "
   ]
  },
  {
   "cell_type": "code",
   "execution_count": null,
   "id": "b35a9f12",
   "metadata": {},
   "outputs": [],
   "source": [
    "# import pickle\n",
    "# pickle.dump(rnd_clf, open('randomforestmodel.pkl', 'wb'))"
   ]
  },
  {
   "cell_type": "markdown",
   "id": "734b1799",
   "metadata": {},
   "source": [
    "### Model 3 XGBoost Classifier"
   ]
  },
  {
   "cell_type": "code",
   "execution_count": null,
   "id": "f5ffeb97",
   "metadata": {},
   "outputs": [],
   "source": [
    "import xgboost"
   ]
  },
  {
   "cell_type": "code",
   "execution_count": null,
   "id": "b4fdd83b",
   "metadata": {},
   "outputs": [],
   "source": [
    "xgb_clf = xgboost.XGBClassifier()\n",
    "\n",
    "xgb_clf.fit(train_x, train_y)"
   ]
  },
  {
   "cell_type": "markdown",
   "id": "8edb7808",
   "metadata": {},
   "source": [
    "### Accuracy for XGBoost"
   ]
  },
  {
   "cell_type": "code",
   "execution_count": null,
   "id": "e8be2da9",
   "metadata": {},
   "outputs": [],
   "source": [
    "\n",
    "train_y_pred = xgb_clf.predict(train_x)\n",
    "\n",
    "train_acc = accuracy_score(train_y, train_y_pred)\n",
    "\n",
    "print('Train acc: {}' .format(train_acc))"
   ]
  },
  {
   "cell_type": "code",
   "execution_count": null,
   "id": "591c3dbb",
   "metadata": {},
   "outputs": [],
   "source": [
    "test_y_pred = xgb_clf.predict(test_x)\n",
    "\n",
    "test_acc = accuracy_score(test_y, test_y_pred)\n",
    "\n",
    "print('Test acc: {}' .format(test_acc))"
   ]
  },
  {
   "cell_type": "markdown",
   "id": "43242ec6",
   "metadata": {},
   "source": [
    "### Performing Randomized Grid Search with Cross validation for determing best hyperparameters"
   ]
  },
  {
   "cell_type": "code",
   "execution_count": null,
   "id": "d80cf77f",
   "metadata": {},
   "outputs": [],
   "source": [
    "from sklearn.model_selection import RandomizedSearchCV\n",
    "from scipy.stats import randint"
   ]
  },
  {
   "cell_type": "code",
   "execution_count": null,
   "id": "27ff20dd",
   "metadata": {},
   "outputs": [],
   "source": [
    "param_grid = {'max_depth': randint(low=5, high=10), \n",
    "              'gamma' : randint(low=2, high=5)}"
   ]
  },
  {
   "cell_type": "code",
   "execution_count": null,
   "id": "19dc0176",
   "metadata": {},
   "outputs": [],
   "source": [
    "tree_gs = RandomizedSearchCV(xgboost.XGBClassifier(), param_grid,n_iter=10,cv=5,\n",
    "                             scoring='accuracy',\n",
    "                             return_train_score=True)\n",
    "tree_gs.fit(train_x, train_y)"
   ]
  },
  {
   "cell_type": "code",
   "execution_count": null,
   "id": "48460a7e",
   "metadata": {},
   "outputs": [],
   "source": [
    "cvres = tree_gs.cv_results_\n",
    "\n",
    "for mean_score, params in zip(cvres[\"mean_test_score\"], cvres[\"params\"]):\n",
    "    print(mean_score, params)"
   ]
  },
  {
   "cell_type": "code",
   "execution_count": null,
   "id": "7115f759",
   "metadata": {},
   "outputs": [],
   "source": [
    "tree_gs.best_params_"
   ]
  },
  {
   "cell_type": "markdown",
   "id": "c3238820",
   "metadata": {},
   "source": [
    "### Accuracy for best XGBoost model obtained after Grid search"
   ]
  },
  {
   "cell_type": "code",
   "execution_count": null,
   "id": "93180f4e",
   "metadata": {},
   "outputs": [],
   "source": [
    "#Train accuracy:\n",
    "train_y_pred = tree_gs.best_estimator_.predict(train_x)\n",
    "\n",
    "print(accuracy_score(train_y, train_y_pred))"
   ]
  },
  {
   "cell_type": "code",
   "execution_count": null,
   "id": "5609148f",
   "metadata": {},
   "outputs": [],
   "source": [
    "test_y_pred = tree_gs.best_estimator_.predict(test_x)\n",
    "\n",
    "print(accuracy_score(test_y, test_y_pred))"
   ]
  },
  {
   "cell_type": "markdown",
   "id": "01cd7bab",
   "metadata": {},
   "source": [
    "### Confusion Matrix for best XGBoost obtained after Grid search"
   ]
  },
  {
   "cell_type": "code",
   "execution_count": null,
   "id": "a6b77e91",
   "metadata": {},
   "outputs": [],
   "source": [
    "confusion_matrix(test_y, test_y_pred)"
   ]
  },
  {
   "cell_type": "markdown",
   "id": "7d8b5712",
   "metadata": {},
   "source": [
    "### F1 score for  best XGBoost obtained after Grid search"
   ]
  },
  {
   "cell_type": "code",
   "execution_count": null,
   "id": "274d2a96",
   "metadata": {
    "scrolled": true
   },
   "outputs": [],
   "source": [
    "f1_score(test_y, test_y_pred)"
   ]
  },
  {
   "cell_type": "markdown",
   "id": "87ee4fcb",
   "metadata": {},
   "source": [
    "### Creating a pickle file for XGBoost model which will be used during model deployment"
   ]
  },
  {
   "cell_type": "code",
   "execution_count": null,
   "id": "d989e181",
   "metadata": {},
   "outputs": [],
   "source": [
    "# import pickle\n",
    "# pickle.dump(tree_gs.best_estimator_, open('XGBoostModel.pkl', 'wb'))"
   ]
  },
  {
   "cell_type": "markdown",
   "id": "c048ce6a",
   "metadata": {},
   "source": [
    "### Determing the Area under the curve for XGBoost model"
   ]
  },
  {
   "cell_type": "code",
   "execution_count": null,
   "id": "2cd0ca3d",
   "metadata": {},
   "outputs": [],
   "source": [
    "xg_auc = roc_auc_score(test_y, test_y_pred)"
   ]
  },
  {
   "cell_type": "code",
   "execution_count": null,
   "id": "d156fdda",
   "metadata": {},
   "outputs": [],
   "source": [
    "xg_fpr, xg_tpr, _ = roc_curve(test_y, test_y_pred)"
   ]
  },
  {
   "cell_type": "markdown",
   "id": "036c6065",
   "metadata": {},
   "source": [
    "### Plotting AUC ROC curve for Decision Tree, Random Forest and XGBoost and comparing the area under the curve"
   ]
  },
  {
   "cell_type": "code",
   "execution_count": null,
   "id": "8af4d599",
   "metadata": {},
   "outputs": [],
   "source": [
    "plt.plot(dt_fpr, dt_tpr, linestyle='--', label='Decision Tree (AUROC = %0.3f)' % dt_auc)\n",
    "plt.plot(rn_fpr, rn_tpr, marker='.', label='Random Forest (AUROC = %0.3f)' % rn_auc)\n",
    "plt.plot(xg_fpr, xg_tpr, marker='.', label='XGBoost (AUROC = %0.3f)' % xg_auc)\n",
    "\n",
    " \n",
    "\n",
    "# Title\n",
    "plt.title('ROC Plot')\n",
    "# Axis labels\n",
    "plt.xlabel('False Positive Rate')\n",
    "plt.ylabel('True Positive Rate')\n",
    "# Show legend\n",
    "plt.legend() # \n",
    "# Show plot\n",
    "plt.show()"
   ]
  },
  {
   "cell_type": "markdown",
   "id": "43b56f78",
   "metadata": {},
   "source": [
    "# Interpretation"
   ]
  },
  {
   "cell_type": "markdown",
   "id": "d6751e3d",
   "metadata": {},
   "source": [
    "The objective of this project is to determine if Car Insurance claim is legit. \n",
    "Either the insurance claim will be legit or it will be not which makes this problem a classification problem. To make\n",
    "the predictions, I have used 3 ML algorithms : Decision Tree, Random Forest and XGBoost. \n",
    "    \n",
    "The accuracy for Decision Tree Classifier is **90%**\n",
    "\n",
    "The accuracy for Random Forest Classifier is **91.32%**\n",
    "\n",
    "The accuracy for XGBoost is **95.4%**\n",
    "\n",
    "**Based on the above plot of AUC-ROC, the area under the curve for**\n",
    "\n",
    "Decision Tree is **0.9**\n",
    "\n",
    "Random Forest Classifier is **0.91**\n",
    "\n",
    "XGBoost is **0.95**\n",
    "\n",
    "Based on the accuracy of 95.4%, it can be said that **XGBoost** model does the best job of predicting the\n",
    "vehicle insurance claim. The AUCROC of 0.95 (XGBoost)suggests that the model does a great job in discriminating \n",
    "fraudulent insurance claims from non fraudulent ones and classifies the insurance claims correctly.\n",
    "\n",
    "We will be using XGBoost model for making our predictions!"
   ]
  },
  {
   "cell_type": "code",
   "execution_count": null,
   "id": "2049a4e2",
   "metadata": {},
   "outputs": [],
   "source": []
  }
 ],
 "metadata": {
  "kernelspec": {
   "display_name": "Python 3 (ipykernel)",
   "language": "python",
   "name": "python3"
  },
  "language_info": {
   "codemirror_mode": {
    "name": "ipython",
    "version": 3
   },
   "file_extension": ".py",
   "mimetype": "text/x-python",
   "name": "python",
   "nbconvert_exporter": "python",
   "pygments_lexer": "ipython3",
   "version": "3.9.15"
  }
 },
 "nbformat": 4,
 "nbformat_minor": 5
}
